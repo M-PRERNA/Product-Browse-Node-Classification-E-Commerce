{
  "nbformat": 4,
  "nbformat_minor": 0,
  "metadata": {
    "colab": {
      "name": "E-Commerce(Model Testing).ipynb",
      "provenance": []
    },
    "kernelspec": {
      "name": "python3",
      "display_name": "Python 3"
    },
    "language_info": {
      "name": "python"
    }
  },
  "cells": [
    {
      "cell_type": "code",
      "metadata": {
        "id": "iQ_s6a5JDCY1"
      },
      "source": [
        "import re \n",
        "import csv\n",
        "import nltk \n",
        "import numpy as np\n",
        "import pandas as pd\n",
        "from sklearn.svm import SVC\n",
        "import matplotlib.pyplot as plt\n",
        "from nltk.corpus import stopwords\n",
        "from keras.models import Sequential\n",
        "from nltk.stem.porter import PorterStemmer \n",
        "from sklearn.tree import DecisionTreeClassifier\n",
        "from sklearn.linear_model import LogisticRegression\n",
        "from sklearn.model_selection import train_test_split\n",
        "from sklearn.feature_extraction.text import CountVectorizer\n",
        "from sklearn import preprocessing, decomposition, model_selection, metrics, pipeline"
      ],
      "execution_count": null,
      "outputs": []
    },
    {
      "cell_type": "code",
      "metadata": {
        "id": "-CcIOTU0D6kG"
      },
      "source": [
        "dataset = pd.read_csv('/content/drive/MyDrive/dataset52a7b21/dataset/df1.csv')\n",
        "# 10 files with 4000 rows each\n",
        "# TEST_1 = pd.read_csv('/content/drive/MyDrive/dataset52a7b21/TEST DATASETS/TEST_1.csv')\n",
        "# TEST_2 = pd.read_csv('/content/drive/MyDrive/dataset52a7b21/TEST DATASETS/TEST_2.csv')\n",
        "# TEST_3 = pd.read_csv('/content/drive/MyDrive/dataset52a7b21/TEST DATASETS/TEST_3.csv')\n",
        "# TEST_4 = pd.read_csv('/content/drive/MyDrive/dataset52a7b21/TEST DATASETS/TEST_4.csv')\n",
        "# TEST_5 = pd.read_csv('/content/drive/MyDrive/dataset52a7b21/TEST DATASETS/TEST_5.csv')\n",
        "# TEST_6 = pd.read_csv('/content/drive/MyDrive/dataset52a7b21/TEST DATASETS/TEST_6.csv')\n",
        "# TEST_7 = pd.read_csv('/content/drive/MyDrive/dataset52a7b21/TEST DATASETS/TEST_7.csv')\n",
        "# TEST_8 = pd.read_csv('/content/drive/MyDrive/dataset52a7b21/TEST DATASETS/TEST_8.csv')\n",
        "# TEST_9 = pd.read_csv('/content/drive/MyDrive/dataset52a7b21/TEST DATASETS/TEST_9.csv')\n",
        "TEST_10 = pd.read_csv('/content/drive/MyDrive/dataset52a7b21/TEST DATASETS/TEST_10.csv')"
      ],
      "execution_count": null,
      "outputs": []
    },
    {
      "cell_type": "code",
      "metadata": {
        "id": "SzDoPM8cMcwi",
        "colab": {
          "base_uri": "https://localhost:8080/"
        },
        "outputId": "daffd7d5-81ca-474f-f098-11ed9c48640d"
      },
      "source": [
        "nltk.download('stopwords')\n",
        "corpus = []\n",
        "test_corpus1 = []\n",
        "# test_corpus2 = []\n",
        "test1=TEST_10.drop(['PRODUCT_ID','DESCRIPTION','BULLET_POINTS','BRAND'], axis=1)\n",
        "\n",
        "\n",
        "for i in range(0,1500):\n",
        "  title = re.sub('[^a-zA-Z]',' ',dataset['TITLE'][i]) \n",
        "  title = title.lower()\n",
        "  title = title.split()\n",
        "  ps = PorterStemmer()\n",
        "  all_stopwords = stopwords.words('english')\n",
        "  title = [ps.stem(word) for word in title if not word in set(all_stopwords)]\n",
        "  title = ' '.join(title)\n",
        "  corpus.append(title)\n",
        "\n",
        "for i in range(0,4000):\n",
        "  title = re.sub('[^a-zA-Z]',' ',str(test1['TITLE'][i])) \n",
        "  title = title.lower()\n",
        "  title = title.split()\n",
        "  ps = PorterStemmer()\n",
        "  all_stopwords = stopwords.words('english')\n",
        "  title = [ps.stem(word) for word in title if not word in set(all_stopwords)]\n",
        "  title = ' '.join(title)\n",
        "  test_corpus1.append(title)"
      ],
      "execution_count": null,
      "outputs": [
        {
          "output_type": "stream",
          "text": [
            "[nltk_data] Downloading package stopwords to /root/nltk_data...\n",
            "[nltk_data]   Package stopwords is already up-to-date!\n"
          ],
          "name": "stdout"
        }
      ]
    },
    {
      "cell_type": "code",
      "metadata": {
        "id": "_c4eWUhFEEEo"
      },
      "source": [
        "cv = CountVectorizer(max_features=4732)\n",
        "X = cv.fit_transform(corpus).toarray()\n",
        "y = dataset.iloc[:,-1].values\n",
        "X_train, X_test, y_train, y_test = train_test_split(X, y, test_size=0.20, random_state=0)"
      ],
      "execution_count": null,
      "outputs": []
    },
    {
      "cell_type": "code",
      "metadata": {
        "colab": {
          "base_uri": "https://localhost:8080/"
        },
        "id": "tNOedQZww-IV",
        "outputId": "543ff199-2561-433d-9d08-61694c425bc6"
      },
      "source": [
        "X_train.shape"
      ],
      "execution_count": null,
      "outputs": [
        {
          "output_type": "execute_result",
          "data": {
            "text/plain": [
              "(1200, 4732)"
            ]
          },
          "metadata": {
            "tags": []
          },
          "execution_count": 6
        }
      ]
    },
    {
      "cell_type": "code",
      "metadata": {
        "id": "9PsK7C4POSOF"
      },
      "source": [
        "X_TEST1= cv.fit_transform(test_corpus1).toarray()"
      ],
      "execution_count": null,
      "outputs": []
    },
    {
      "cell_type": "code",
      "metadata": {
        "colab": {
          "base_uri": "https://localhost:8080/"
        },
        "id": "CSfPm0BCw2GO",
        "outputId": "cfb0889d-8800-4618-e99b-c8f3db496f23"
      },
      "source": [
        "X_TEST1.shape"
      ],
      "execution_count": null,
      "outputs": [
        {
          "output_type": "execute_result",
          "data": {
            "text/plain": [
              "(4000, 4732)"
            ]
          },
          "metadata": {
            "tags": []
          },
          "execution_count": 85
        }
      ]
    },
    {
      "cell_type": "code",
      "metadata": {
        "colab": {
          "base_uri": "https://localhost:8080/"
        },
        "id": "hEyhmMR12MHv",
        "outputId": "564cc4c8-17f6-4cdc-807a-972415519459"
      },
      "source": [
        "# from sklearn.linear_model import LogisticRegression\n",
        "from sklearn.naive_bayes import GaussianNB\n",
        "from sklearn.naive_bayes import ComplementNB\n",
        "classifier = ComplementNB()\n",
        "classifier.fit(X_train, y_train)"
      ],
      "execution_count": null,
      "outputs": [
        {
          "output_type": "execute_result",
          "data": {
            "text/plain": [
              "ComplementNB(alpha=1.0, class_prior=None, fit_prior=True, norm=False)"
            ]
          },
          "metadata": {
            "tags": []
          },
          "execution_count": 21
        }
      ]
    },
    {
      "cell_type": "code",
      "metadata": {
        "id": "lM5r9Oj_EQIZ",
        "colab": {
          "base_uri": "https://localhost:8080/"
        },
        "outputId": "5d244670-21dd-47e8-b83b-83752ce6b332"
      },
      "source": [
        "from sklearn.metrics import confusion_matrix, accuracy_score\n",
        "y_pred = classifier.predict(X_test)\n",
        "accuracy_score(y_test, y_pred)"
      ],
      "execution_count": null,
      "outputs": [
        {
          "output_type": "execute_result",
          "data": {
            "text/plain": [
              "0.38333333333333336"
            ]
          },
          "metadata": {
            "tags": []
          },
          "execution_count": 10
        }
      ]
    },
    {
      "cell_type": "code",
      "metadata": {
        "id": "6Zee8a0BvC75"
      },
      "source": [
        "pred = classifier.predict(X_TEST1)"
      ],
      "execution_count": null,
      "outputs": []
    },
    {
      "cell_type": "code",
      "metadata": {
        "id": "juxGADQ4uo2C"
      },
      "source": [
        "answer = {'PRODUCT_ID': TEST_10['PRODUCT_ID'],\n",
        "          'BROWSE_NODE_ID': pred}\n",
        "answer = pd.DataFrame(answer)\n"
      ],
      "execution_count": null,
      "outputs": []
    },
    {
      "cell_type": "code",
      "metadata": {
        "id": "tAraUa0Mz-qE"
      },
      "source": [
        "answer.to_csv('TEST_10_PREDICT.csv')"
      ],
      "execution_count": null,
      "outputs": []
    },
    {
      "cell_type": "code",
      "metadata": {
        "id": "YwP4AH9m3wHS"
      },
      "source": [
        ""
      ],
      "execution_count": null,
      "outputs": []
    }
  ]
}