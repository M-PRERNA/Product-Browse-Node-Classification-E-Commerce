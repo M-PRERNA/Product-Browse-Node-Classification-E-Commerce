{
  "nbformat": 4,
  "nbformat_minor": 0,
  "metadata": {
    "colab": {
      "name": "EDA.ipynb",
      "provenance": []
    },
    "kernelspec": {
      "name": "python3",
      "display_name": "Python 3"
    },
    "language_info": {
      "name": "python"
    }
  },
  "cells": [
    {
      "cell_type": "code",
      "metadata": {
        "id": "oCstx9E5Dr_j"
      },
      "source": [
        ""
      ],
      "execution_count": null,
      "outputs": []
    },
    {
      "cell_type": "code",
      "metadata": {
        "id": "9xI_vUrZ-Sed"
      },
      "source": [
        "import numpy as np\n",
        "import pandas as pd\n",
        "import csv"
      ],
      "execution_count": null,
      "outputs": []
    },
    {
      "cell_type": "code",
      "metadata": {
        "id": "UagPjlks_Eft"
      },
      "source": [
        "dataset = pd.read_csv('/content/drive/MyDrive/dataset52a7b21/dataset/train.csv',escapechar=\"\\\\\",quoting=csv.QUOTE_NONE)"
      ],
      "execution_count": null,
      "outputs": []
    },
    {
      "cell_type": "code",
      "metadata": {
        "colab": {
          "base_uri": "https://localhost:8080/",
          "height": 286
        },
        "id": "rqMJReHP_GES",
        "outputId": "3815e0d1-4996-4cb2-a701-70271e902da1"
      },
      "source": [
        "dataset.head()"
      ],
      "execution_count": null,
      "outputs": [
        {
          "output_type": "execute_result",
          "data": {
            "text/html": [
              "<div>\n",
              "<style scoped>\n",
              "    .dataframe tbody tr th:only-of-type {\n",
              "        vertical-align: middle;\n",
              "    }\n",
              "\n",
              "    .dataframe tbody tr th {\n",
              "        vertical-align: top;\n",
              "    }\n",
              "\n",
              "    .dataframe thead th {\n",
              "        text-align: right;\n",
              "    }\n",
              "</style>\n",
              "<table border=\"1\" class=\"dataframe\">\n",
              "  <thead>\n",
              "    <tr style=\"text-align: right;\">\n",
              "      <th></th>\n",
              "      <th>TITLE</th>\n",
              "      <th>DESCRIPTION</th>\n",
              "      <th>BULLET_POINTS</th>\n",
              "      <th>BRAND</th>\n",
              "      <th>BROWSE_NODE_ID</th>\n",
              "    </tr>\n",
              "  </thead>\n",
              "  <tbody>\n",
              "    <tr>\n",
              "      <th>0</th>\n",
              "      <td>Pete The Cat Bedtime Blues Doll, 14.5 Inch</td>\n",
              "      <td>Pete the Cat is the coolest, most popular cat ...</td>\n",
              "      <td>[Pete the Cat Bedtime Blues plush doll,Based o...</td>\n",
              "      <td>MerryMakers</td>\n",
              "      <td>0</td>\n",
              "    </tr>\n",
              "    <tr>\n",
              "      <th>1</th>\n",
              "      <td>The New Yorker NYHM014 Refrigerator Magnet, 2 ...</td>\n",
              "      <td>The New Yorker Handsome Cello Wrapped Hard Mag...</td>\n",
              "      <td>[Cat In A Tea Cup by New Yorker cover artist G...</td>\n",
              "      <td>The New Yorker</td>\n",
              "      <td>1</td>\n",
              "    </tr>\n",
              "    <tr>\n",
              "      <th>2</th>\n",
              "      <td>The Ultimate Self-Sufficiency Handbook: A Comp...</td>\n",
              "      <td>NaN</td>\n",
              "      <td>Skyhorse Publishing</td>\n",
              "      <td>imusti</td>\n",
              "      <td>2</td>\n",
              "    </tr>\n",
              "    <tr>\n",
              "      <th>3</th>\n",
              "      <td>Amway Nutrilite Kids Chewable Iron Tablets (100)</td>\n",
              "      <td>NaN</td>\n",
              "      <td>[Nutrilite Kids,Chewable Iron Tablets,Quantity...</td>\n",
              "      <td>Amway</td>\n",
              "      <td>3</td>\n",
              "    </tr>\n",
              "    <tr>\n",
              "      <th>4</th>\n",
              "      <td>Teacher Planner Company A4 6 Lesson Academic T...</td>\n",
              "      <td>NaN</td>\n",
              "      <td>NaN</td>\n",
              "      <td>NaN</td>\n",
              "      <td>4</td>\n",
              "    </tr>\n",
              "  </tbody>\n",
              "</table>\n",
              "</div>"
            ],
            "text/plain": [
              "                                               TITLE  ... BROWSE_NODE_ID\n",
              "0         Pete The Cat Bedtime Blues Doll, 14.5 Inch  ...              0\n",
              "1  The New Yorker NYHM014 Refrigerator Magnet, 2 ...  ...              1\n",
              "2  The Ultimate Self-Sufficiency Handbook: A Comp...  ...              2\n",
              "3   Amway Nutrilite Kids Chewable Iron Tablets (100)  ...              3\n",
              "4  Teacher Planner Company A4 6 Lesson Academic T...  ...              4\n",
              "\n",
              "[5 rows x 5 columns]"
            ]
          },
          "metadata": {
            "tags": []
          },
          "execution_count": 3
        }
      ]
    },
    {
      "cell_type": "code",
      "metadata": {
        "colab": {
          "base_uri": "https://localhost:8080/"
        },
        "id": "NaOmMW_u_pX5",
        "outputId": "0b64b5f5-e593-43e0-d995-80d69cbc42f6"
      },
      "source": [
        "dataset.info()\n"
      ],
      "execution_count": null,
      "outputs": [
        {
          "output_type": "stream",
          "text": [
            "<class 'pandas.core.frame.DataFrame'>\n",
            "RangeIndex: 2903024 entries, 0 to 2903023\n",
            "Data columns (total 5 columns):\n",
            " #   Column          Dtype \n",
            "---  ------          ----- \n",
            " 0   TITLE           object\n",
            " 1   DESCRIPTION     object\n",
            " 2   BULLET_POINTS   object\n",
            " 3   BRAND           object\n",
            " 4   BROWSE_NODE_ID  int64 \n",
            "dtypes: int64(1), object(4)\n",
            "memory usage: 110.7+ MB\n"
          ],
          "name": "stdout"
        }
      ]
    },
    {
      "cell_type": "code",
      "metadata": {
        "colab": {
          "base_uri": "https://localhost:8080/",
          "height": 286
        },
        "id": "OBq5n8htCBXY",
        "outputId": "40faaa4e-f165-46ac-fc7e-1cbae0ba78bd"
      },
      "source": [
        "dataset.tail()"
      ],
      "execution_count": null,
      "outputs": [
        {
          "output_type": "execute_result",
          "data": {
            "text/html": [
              "<div>\n",
              "<style scoped>\n",
              "    .dataframe tbody tr th:only-of-type {\n",
              "        vertical-align: middle;\n",
              "    }\n",
              "\n",
              "    .dataframe tbody tr th {\n",
              "        vertical-align: top;\n",
              "    }\n",
              "\n",
              "    .dataframe thead th {\n",
              "        text-align: right;\n",
              "    }\n",
              "</style>\n",
              "<table border=\"1\" class=\"dataframe\">\n",
              "  <thead>\n",
              "    <tr style=\"text-align: right;\">\n",
              "      <th></th>\n",
              "      <th>TITLE</th>\n",
              "      <th>DESCRIPTION</th>\n",
              "      <th>BULLET_POINTS</th>\n",
              "      <th>BRAND</th>\n",
              "      <th>BROWSE_NODE_ID</th>\n",
              "    </tr>\n",
              "  </thead>\n",
              "  <tbody>\n",
              "    <tr>\n",
              "      <th>2903019</th>\n",
              "      <td>Premium Aviator Sunglasses - HD Polarized (Bri...</td>\n",
              "      <td>These premium Aviator Sunglasses with 5 color ...</td>\n",
              "      <td>[Frame size: Lens height - 56mm, Lens width - ...</td>\n",
              "      <td>Generic</td>\n",
              "      <td>1040</td>\n",
              "    </tr>\n",
              "    <tr>\n",
              "      <th>2903020</th>\n",
              "      <td>Social Distance Stickers - Set of 5 Sticker Sl...</td>\n",
              "      <td>set of 5 prints social distancing sticker self...</td>\n",
              "      <td>[covid19 safety sticker - set of 5 to maintain...</td>\n",
              "      <td>Generic</td>\n",
              "      <td>15199</td>\n",
              "    </tr>\n",
              "    <tr>\n",
              "      <th>2903021</th>\n",
              "      <td>Torr-to Face Shield PACK OF 5 with Adjustable ...</td>\n",
              "      <td>* COMPLETE FACE PROTECTION: Torr-to Face Shiel...</td>\n",
              "      <td>[350 MICRONS PACK OF 5 PCS,COMPLETE FACE PROTE...</td>\n",
              "      <td>TORR-TO</td>\n",
              "      <td>1044933</td>\n",
              "    </tr>\n",
              "    <tr>\n",
              "      <th>2903022</th>\n",
              "      <td>Type-C to 3.5 MM for Oppo R17 Pro Type-C to 3....</td>\n",
              "      <td>Still want to use your favorite earphones/head...</td>\n",
              "      <td>[Indian Connectors: Made for Indian sockets, t...</td>\n",
              "      <td>SHOPBELL</td>\n",
              "      <td>14790</td>\n",
              "    </tr>\n",
              "    <tr>\n",
              "      <th>2903023</th>\n",
              "      <td>KNG Orange Polo Tshirt (38)</td>\n",
              "      <td>Performance inspired by comfort. The polo shir...</td>\n",
              "      <td>NaN</td>\n",
              "      <td>KNG</td>\n",
              "      <td>1213</td>\n",
              "    </tr>\n",
              "  </tbody>\n",
              "</table>\n",
              "</div>"
            ],
            "text/plain": [
              "                                                     TITLE  ... BROWSE_NODE_ID\n",
              "2903019  Premium Aviator Sunglasses - HD Polarized (Bri...  ...           1040\n",
              "2903020  Social Distance Stickers - Set of 5 Sticker Sl...  ...          15199\n",
              "2903021  Torr-to Face Shield PACK OF 5 with Adjustable ...  ...        1044933\n",
              "2903022  Type-C to 3.5 MM for Oppo R17 Pro Type-C to 3....  ...          14790\n",
              "2903023                        KNG Orange Polo Tshirt (38)  ...           1213\n",
              "\n",
              "[5 rows x 5 columns]"
            ]
          },
          "metadata": {
            "tags": []
          },
          "execution_count": 5
        }
      ]
    },
    {
      "cell_type": "code",
      "metadata": {
        "colab": {
          "base_uri": "https://localhost:8080/"
        },
        "id": "TKnW6bTUMmA7",
        "outputId": "b51e6b96-801e-4c99-92da-7545ea0d4088"
      },
      "source": [
        "dataset.isnull().sum()"
      ],
      "execution_count": null,
      "outputs": [
        {
          "output_type": "execute_result",
          "data": {
            "text/plain": [
              "TITLE                 71\n",
              "DESCRIPTION       723664\n",
              "BULLET_POINTS     166263\n",
              "BRAND              56737\n",
              "BROWSE_NODE_ID         0\n",
              "dtype: int64"
            ]
          },
          "metadata": {
            "tags": []
          },
          "execution_count": 6
        }
      ]
    },
    {
      "cell_type": "code",
      "metadata": {
        "id": "JRSVo5ZhMl4e"
      },
      "source": [
        ""
      ],
      "execution_count": null,
      "outputs": []
    },
    {
      "cell_type": "code",
      "metadata": {
        "colab": {
          "base_uri": "https://localhost:8080/"
        },
        "id": "ugq94eAFE8kF",
        "outputId": "e7751650-c764-4874-903a-f989b4565822"
      },
      "source": [
        "dataset['BROWSE_NODE_ID']"
      ],
      "execution_count": null,
      "outputs": [
        {
          "output_type": "execute_result",
          "data": {
            "text/plain": [
              "0                0\n",
              "1                1\n",
              "2                2\n",
              "3                3\n",
              "4                4\n",
              "            ...   \n",
              "2903019       1040\n",
              "2903020      15199\n",
              "2903021    1044933\n",
              "2903022      14790\n",
              "2903023       1213\n",
              "Name: BROWSE_NODE_ID, Length: 2903024, dtype: int64"
            ]
          },
          "metadata": {
            "tags": []
          },
          "execution_count": 7
        }
      ]
    },
    {
      "cell_type": "code",
      "metadata": {
        "colab": {
          "base_uri": "https://localhost:8080/",
          "height": 549
        },
        "id": "Ob1cD1jQKa82",
        "outputId": "e5cf3388-92d9-4c68-81ae-5ecfb7d52ec0"
      },
      "source": [
        "dataset.sort_values(\n",
        " by=\"BROWSE_NODE_ID\",\n",
        "ascending=True,\n",
        "kind=\"mergesort\"\n",
        ")"
      ],
      "execution_count": null,
      "outputs": [
        {
          "output_type": "execute_result",
          "data": {
            "text/html": [
              "<div>\n",
              "<style scoped>\n",
              "    .dataframe tbody tr th:only-of-type {\n",
              "        vertical-align: middle;\n",
              "    }\n",
              "\n",
              "    .dataframe tbody tr th {\n",
              "        vertical-align: top;\n",
              "    }\n",
              "\n",
              "    .dataframe thead th {\n",
              "        text-align: right;\n",
              "    }\n",
              "</style>\n",
              "<table border=\"1\" class=\"dataframe\">\n",
              "  <thead>\n",
              "    <tr style=\"text-align: right;\">\n",
              "      <th></th>\n",
              "      <th>TITLE</th>\n",
              "      <th>DESCRIPTION</th>\n",
              "      <th>BULLET_POINTS</th>\n",
              "      <th>BRAND</th>\n",
              "      <th>BROWSE_NODE_ID</th>\n",
              "    </tr>\n",
              "  </thead>\n",
              "  <tbody>\n",
              "    <tr>\n",
              "      <th>0</th>\n",
              "      <td>Pete The Cat Bedtime Blues Doll, 14.5 Inch</td>\n",
              "      <td>Pete the Cat is the coolest, most popular cat ...</td>\n",
              "      <td>[Pete the Cat Bedtime Blues plush doll,Based o...</td>\n",
              "      <td>MerryMakers</td>\n",
              "      <td>0</td>\n",
              "    </tr>\n",
              "    <tr>\n",
              "      <th>80</th>\n",
              "      <td>Barbie Fairytopia Magic of the Rainbow Mix &amp; S...</td>\n",
              "      <td>NaN</td>\n",
              "      <td>[The Mix and Fix Fairy doll sets include lots ...</td>\n",
              "      <td>Barbie</td>\n",
              "      <td>0</td>\n",
              "    </tr>\n",
              "    <tr>\n",
              "      <th>429</th>\n",
              "      <td>Barbie Fashionistas Barbie Doll and Pet</td>\n",
              "      <td>NaN</td>\n",
              "      <td>NaN</td>\n",
              "      <td>NaN</td>\n",
              "      <td>0</td>\n",
              "    </tr>\n",
              "    <tr>\n",
              "      <th>1106</th>\n",
              "      <td>Mattel Special Edition Chucke Cheeses Barbie Doll</td>\n",
              "      <td>NaN</td>\n",
              "      <td>NaN</td>\n",
              "      <td>Mattel</td>\n",
              "      <td>0</td>\n",
              "    </tr>\n",
              "    <tr>\n",
              "      <th>1640</th>\n",
              "      <td>Barbie Doll Accessories Necklaces Earrings Cro...</td>\n",
              "      <td>Barbie Doll Accessories Necklaces Earrings Cro...</td>\n",
              "      <td>[Delivery Time: 15-25 Days.,Color: As per avai...</td>\n",
              "      <td>Burberry</td>\n",
              "      <td>0</td>\n",
              "    </tr>\n",
              "    <tr>\n",
              "      <th>...</th>\n",
              "      <td>...</td>\n",
              "      <td>...</td>\n",
              "      <td>...</td>\n",
              "      <td>...</td>\n",
              "      <td>...</td>\n",
              "    </tr>\n",
              "    <tr>\n",
              "      <th>2801983</th>\n",
              "      <td>Writeyboard 50 Square Feet 1-Part White Dry Er...</td>\n",
              "      <td>Clear Dry Erase Paint. Writing on the walls us...</td>\n",
              "      <td>[Requires Only 1 Coat,Write on In 2 Days,No Mi...</td>\n",
              "      <td>Writey Board</td>\n",
              "      <td>2801983</td>\n",
              "    </tr>\n",
              "    <tr>\n",
              "      <th>2830573</th>\n",
              "      <td>Journal of Inventions, Leonardo Da Vinci</td>\n",
              "      <td>NaN</td>\n",
              "      <td>NaN</td>\n",
              "      <td>NaN</td>\n",
              "      <td>2830573</td>\n",
              "    </tr>\n",
              "    <tr>\n",
              "      <th>2847632</th>\n",
              "      <td>NO FALL Men's Anti-slip Cotton Full Length Soc...</td>\n",
              "      <td>NOFALL to increase comfort and stability. Perf...</td>\n",
              "      <td>[Material: 88% Cotton, 12% Lycra | Type: Full ...</td>\n",
              "      <td>NOFALL</td>\n",
              "      <td>2847632</td>\n",
              "    </tr>\n",
              "    <tr>\n",
              "      <th>2860317</th>\n",
              "      <td>Remco 69625 Stiff Hand Scraper, Injection Mold...</td>\n",
              "      <td>NaN</td>\n",
              "      <td>[This color-coded bench scraper is an excellen...</td>\n",
              "      <td>Remco</td>\n",
              "      <td>2860317</td>\n",
              "    </tr>\n",
              "    <tr>\n",
              "      <th>2893574</th>\n",
              "      <td>Yonex Junior Polo T-Shirt 932-28 (Strong Blue,...</td>\n",
              "      <td>Top players stay relaxed and win points at cri...</td>\n",
              "      <td>[A COOL WAY TO BEAT THE HEAT By using impregna...</td>\n",
              "      <td>YONEX</td>\n",
              "      <td>2893574</td>\n",
              "    </tr>\n",
              "  </tbody>\n",
              "</table>\n",
              "<p>2903024 rows × 5 columns</p>\n",
              "</div>"
            ],
            "text/plain": [
              "                                                     TITLE  ... BROWSE_NODE_ID\n",
              "0               Pete The Cat Bedtime Blues Doll, 14.5 Inch  ...              0\n",
              "80       Barbie Fairytopia Magic of the Rainbow Mix & S...  ...              0\n",
              "429                Barbie Fashionistas Barbie Doll and Pet  ...              0\n",
              "1106     Mattel Special Edition Chucke Cheeses Barbie Doll  ...              0\n",
              "1640     Barbie Doll Accessories Necklaces Earrings Cro...  ...              0\n",
              "...                                                    ...  ...            ...\n",
              "2801983  Writeyboard 50 Square Feet 1-Part White Dry Er...  ...        2801983\n",
              "2830573           Journal of Inventions, Leonardo Da Vinci  ...        2830573\n",
              "2847632  NO FALL Men's Anti-slip Cotton Full Length Soc...  ...        2847632\n",
              "2860317  Remco 69625 Stiff Hand Scraper, Injection Mold...  ...        2860317\n",
              "2893574  Yonex Junior Polo T-Shirt 932-28 (Strong Blue,...  ...        2893574\n",
              "\n",
              "[2903024 rows x 5 columns]"
            ]
          },
          "metadata": {
            "tags": []
          },
          "execution_count": 8
        }
      ]
    },
    {
      "cell_type": "code",
      "metadata": {
        "colab": {
          "base_uri": "https://localhost:8080/",
          "height": 565
        },
        "id": "dFvsFb48LOEA",
        "outputId": "8b1c163b-2441-4ca1-c335-9eab3466ecae"
      },
      "source": [
        "dataset.sample(100).sort_values(\n",
        "    by='BROWSE_NODE_ID',\n",
        "    ascending = True,\n",
        "    kind = 'mergesort'\n",
        ")"
      ],
      "execution_count": null,
      "outputs": [
        {
          "output_type": "execute_result",
          "data": {
            "text/html": [
              "<div>\n",
              "<style scoped>\n",
              "    .dataframe tbody tr th:only-of-type {\n",
              "        vertical-align: middle;\n",
              "    }\n",
              "\n",
              "    .dataframe tbody tr th {\n",
              "        vertical-align: top;\n",
              "    }\n",
              "\n",
              "    .dataframe thead th {\n",
              "        text-align: right;\n",
              "    }\n",
              "</style>\n",
              "<table border=\"1\" class=\"dataframe\">\n",
              "  <thead>\n",
              "    <tr style=\"text-align: right;\">\n",
              "      <th></th>\n",
              "      <th>TITLE</th>\n",
              "      <th>DESCRIPTION</th>\n",
              "      <th>BULLET_POINTS</th>\n",
              "      <th>BRAND</th>\n",
              "      <th>BROWSE_NODE_ID</th>\n",
              "    </tr>\n",
              "  </thead>\n",
              "  <tbody>\n",
              "    <tr>\n",
              "      <th>2018401</th>\n",
              "      <td>Francine R. Frankel</td>\n",
              "      <td>NaN</td>\n",
              "      <td>NaN</td>\n",
              "      <td>NaN</td>\n",
              "      <td>4</td>\n",
              "    </tr>\n",
              "    <tr>\n",
              "      <th>263968</th>\n",
              "      <td>Makka Madina Photo Frame</td>\n",
              "      <td>100 % Original, God Images, 24 ct. Gold foil p...</td>\n",
              "      <td>[12 X 16 Inch,Product Quality Superb,24ct. Gol...</td>\n",
              "      <td>Gold Art 4 U</td>\n",
              "      <td>4</td>\n",
              "    </tr>\n",
              "    <tr>\n",
              "      <th>1111141</th>\n",
              "      <td>GADGETS WRAP Children Height Measurement Wall ...</td>\n",
              "      <td>NaN</td>\n",
              "      <td>NaN</td>\n",
              "      <td>NaN</td>\n",
              "      <td>4</td>\n",
              "    </tr>\n",
              "    <tr>\n",
              "      <th>2672133</th>\n",
              "      <td>Animal Set 04 Dalmatian Jasper Unakite Cat Kit...</td>\n",
              "      <td>NaN</td>\n",
              "      <td>NaN</td>\n",
              "      <td>NaN</td>\n",
              "      <td>4</td>\n",
              "    </tr>\n",
              "    <tr>\n",
              "      <th>1726480</th>\n",
              "      <td>Men's Attractive Black Colour Round Neck Half ...</td>\n",
              "      <td>Regular fit, optimal softness and durability c...</td>\n",
              "      <td>[Designer Mens T-Shirt,Care Instructions: Easy...</td>\n",
              "      <td>Generic</td>\n",
              "      <td>5</td>\n",
              "    </tr>\n",
              "    <tr>\n",
              "      <th>...</th>\n",
              "      <td>...</td>\n",
              "      <td>...</td>\n",
              "      <td>...</td>\n",
              "      <td>...</td>\n",
              "      <td>...</td>\n",
              "    </tr>\n",
              "    <tr>\n",
              "      <th>1310792</th>\n",
              "      <td>Mikrotik Lite Dish Feed LDF 5 RBLDF-5nD Outdoo...</td>\n",
              "      <td>LDF 5 The LDF (Lite Dish Feed) is an outdoor w...</td>\n",
              "      <td>[The LDF (Lite Dish Feed) is an outdoor wirele...</td>\n",
              "      <td>Mikrotik</td>\n",
              "      <td>17303</td>\n",
              "    </tr>\n",
              "    <tr>\n",
              "      <th>1390039</th>\n",
              "      <td>Rechargeable Pen Light Flashlight IP67 Waterpr...</td>\n",
              "      <td>&lt;p&gt;&lt;b&gt;&lt;i&gt;Rechargeable Pen Light Flashlight IP6...</td>\n",
              "      <td>[【Lightweight &amp; Handheld】This 6.5 inch LED wat...</td>\n",
              "      <td>COVMAX</td>\n",
              "      <td>19803</td>\n",
              "    </tr>\n",
              "    <tr>\n",
              "      <th>923376</th>\n",
              "      <td>Healifty 24 Inch Dual Adjustable Shoulder Stra...</td>\n",
              "      <td>&lt;b&gt;Description&lt;/b&gt;&lt;br/&gt;Instruments are delicat...</td>\n",
              "      <td>[Durable Red Cord Guitar Padded Gig Bag Guitar...</td>\n",
              "      <td>Healifty</td>\n",
              "      <td>19944</td>\n",
              "    </tr>\n",
              "    <tr>\n",
              "      <th>32850</th>\n",
              "      <td>LOWRENCE SARTE Shark Fin Replacement Signal Re...</td>\n",
              "      <td>Instructions: high gain - aerodynamic design c...</td>\n",
              "      <td>[Good product,Signal receiver antenna,Colour: ...</td>\n",
              "      <td>SARTE</td>\n",
              "      <td>32850</td>\n",
              "    </tr>\n",
              "    <tr>\n",
              "      <th>1238993</th>\n",
              "      <td>30pt 8\" x 10\" Brown Kraft Cardboard Chipboard ...</td>\n",
              "      <td>30pt 8\" x 10\" Cardboard Chipboard by Desktop P...</td>\n",
              "      <td>[Cardboard Chipboard works perfect for mountin...</td>\n",
              "      <td>Desktop Publishing Supplies</td>\n",
              "      <td>102421</td>\n",
              "    </tr>\n",
              "  </tbody>\n",
              "</table>\n",
              "<p>100 rows × 5 columns</p>\n",
              "</div>"
            ],
            "text/plain": [
              "                                                     TITLE  ... BROWSE_NODE_ID\n",
              "2018401                                Francine R. Frankel  ...              4\n",
              "263968                            Makka Madina Photo Frame  ...              4\n",
              "1111141  GADGETS WRAP Children Height Measurement Wall ...  ...              4\n",
              "2672133  Animal Set 04 Dalmatian Jasper Unakite Cat Kit...  ...              4\n",
              "1726480  Men's Attractive Black Colour Round Neck Half ...  ...              5\n",
              "...                                                    ...  ...            ...\n",
              "1310792  Mikrotik Lite Dish Feed LDF 5 RBLDF-5nD Outdoo...  ...          17303\n",
              "1390039  Rechargeable Pen Light Flashlight IP67 Waterpr...  ...          19803\n",
              "923376   Healifty 24 Inch Dual Adjustable Shoulder Stra...  ...          19944\n",
              "32850    LOWRENCE SARTE Shark Fin Replacement Signal Re...  ...          32850\n",
              "1238993  30pt 8\" x 10\" Brown Kraft Cardboard Chipboard ...  ...         102421\n",
              "\n",
              "[100 rows x 5 columns]"
            ]
          },
          "metadata": {
            "tags": []
          },
          "execution_count": 9
        }
      ]
    },
    {
      "cell_type": "code",
      "metadata": {
        "colab": {
          "base_uri": "https://localhost:8080/"
        },
        "id": "GExg-5NwLl4f",
        "outputId": "7d65e2e7-1f55-4a00-f48e-be96091b6dd2"
      },
      "source": [
        "dataset.sample(100).sort_values(\n",
        "    by='BROWSE_NODE_ID',\n",
        "    ascending = True,\n",
        "    kind = 'mergesort'\n",
        ").isnull().sum()"
      ],
      "execution_count": null,
      "outputs": [
        {
          "output_type": "execute_result",
          "data": {
            "text/plain": [
              "TITLE              0\n",
              "DESCRIPTION       24\n",
              "BULLET_POINTS      2\n",
              "BRAND              1\n",
              "BROWSE_NODE_ID     0\n",
              "dtype: int64"
            ]
          },
          "metadata": {
            "tags": []
          },
          "execution_count": 10
        }
      ]
    },
    {
      "cell_type": "code",
      "metadata": {
        "colab": {
          "base_uri": "https://localhost:8080/"
        },
        "id": "V7Mh79q3MRi5",
        "outputId": "c34f6eb1-9e6e-441d-a137-12de5f1bd495"
      },
      "source": [
        "dataset.sample(10)['TITLE']"
      ],
      "execution_count": null,
      "outputs": [
        {
          "output_type": "execute_result",
          "data": {
            "text/plain": [
              "1554706    SMDV Diffuser Speedbox-S65 - Professional 26 i...\n",
              "521359     WAVLINK USB C Docking Station Dual 4K Display ...\n",
              "103779     Traditional 8 x 5.5 Rectangular Plate Melamine...\n",
              "714605     Clorox Rubber Soft Silicon Back Cover For MI R...\n",
              "1532486    Fasha Trackpants for Women | Pyjama for Women ...\n",
              "2425918    4 Ton 4Mtr Nylon Towing Cable, 6 Pieces Car Bi...\n",
              "1212075    Zoroy Luxury Chocolate Christmas 175 GMS Eggle...\n",
              "1799192    Casotec Girl Boy Sunset Sea Design 3D Printed ...\n",
              "2848255    Posterhub Movie Aliens Alien Sigourney Weaver ...\n",
              "578848     Shezone Women's Orange Synthetic Fashion Sanda...\n",
              "Name: TITLE, dtype: object"
            ]
          },
          "metadata": {
            "tags": []
          },
          "execution_count": 11
        }
      ]
    },
    {
      "cell_type": "code",
      "metadata": {
        "id": "s95aFFZFOFSB"
      },
      "source": [
        "new_data= dataset.drop(['DESCRIPTION'],axis=1)"
      ],
      "execution_count": null,
      "outputs": []
    },
    {
      "cell_type": "code",
      "metadata": {
        "colab": {
          "base_uri": "https://localhost:8080/"
        },
        "id": "PGD9c9cLV5w7",
        "outputId": "f18239da-0eb6-40bd-bfa3-c62c8146c65d"
      },
      "source": [
        "len(pd.unique(new_data['BRAND']))"
      ],
      "execution_count": null,
      "outputs": [
        {
          "output_type": "execute_result",
          "data": {
            "text/plain": [
              "258266"
            ]
          },
          "metadata": {
            "tags": []
          },
          "execution_count": 13
        }
      ]
    },
    {
      "cell_type": "code",
      "metadata": {
        "colab": {
          "base_uri": "https://localhost:8080/"
        },
        "id": "3vDxjaeoWyY0",
        "outputId": "5e52c3f3-19fa-405e-dd40-04f92861fcfd"
      },
      "source": [
        "new_data.nunique(axis=0)"
      ],
      "execution_count": null,
      "outputs": [
        {
          "output_type": "execute_result",
          "data": {
            "text/plain": [
              "TITLE             2751512\n",
              "BULLET_POINTS     1668898\n",
              "BRAND              258265\n",
              "BROWSE_NODE_ID       9919\n",
              "dtype: int64"
            ]
          },
          "metadata": {
            "tags": []
          },
          "execution_count": 14
        }
      ]
    },
    {
      "cell_type": "code",
      "metadata": {
        "id": "vtJSeBp1WDdn"
      },
      "source": [
        "new_data.dropna(axis=0,how='all',inplace=True)"
      ],
      "execution_count": null,
      "outputs": []
    },
    {
      "cell_type": "code",
      "metadata": {
        "colab": {
          "base_uri": "https://localhost:8080/"
        },
        "id": "HxUnTvDLcD_T",
        "outputId": "c1bda0f5-6fbd-422a-90d2-c8f396872843"
      },
      "source": [
        "new_data.nunique(axis=0)\n"
      ],
      "execution_count": null,
      "outputs": [
        {
          "output_type": "execute_result",
          "data": {
            "text/plain": [
              "TITLE             2751512\n",
              "BULLET_POINTS     1668898\n",
              "BRAND              258265\n",
              "BROWSE_NODE_ID       9919\n",
              "dtype: int64"
            ]
          },
          "metadata": {
            "tags": []
          },
          "execution_count": 16
        }
      ]
    },
    {
      "cell_type": "code",
      "metadata": {
        "colab": {
          "base_uri": "https://localhost:8080/"
        },
        "id": "YQFfoPIbc4zl",
        "outputId": "0d4a3fa3-6901-4ebe-bce8-4b43ddab14e0"
      },
      "source": [
        "new_data.isnull().sum()"
      ],
      "execution_count": null,
      "outputs": [
        {
          "output_type": "execute_result",
          "data": {
            "text/plain": [
              "TITLE                 71\n",
              "BULLET_POINTS     166263\n",
              "BRAND              56737\n",
              "BROWSE_NODE_ID         0\n",
              "dtype: int64"
            ]
          },
          "metadata": {
            "tags": []
          },
          "execution_count": 17
        }
      ]
    },
    {
      "cell_type": "code",
      "metadata": {
        "id": "AUz4F_0qdDrF"
      },
      "source": [
        ""
      ],
      "execution_count": null,
      "outputs": []
    }
  ]
}